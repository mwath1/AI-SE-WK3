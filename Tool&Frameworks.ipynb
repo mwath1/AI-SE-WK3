{
  "nbformat": 4,
  "nbformat_minor": 0,
  "metadata": {
    "colab": {
      "provenance": []
    },
    "kernelspec": {
      "name": "python3",
      "display_name": "Python 3"
    },
    "language_info": {
      "name": "python"
    }
  },
  "cells": [
    {
      "cell_type": "markdown",
      "source": [
        "# Part 2: Practical Implementation (50%)\n",
        "# Task 1: Classical ML with Scikit-learn\n",
        "\n"
      ],
      "metadata": {
        "id": "gxvnk7qaIVIo"
      }
    },
    {
      "cell_type": "code",
      "execution_count": 2,
      "metadata": {
        "colab": {
          "base_uri": "https://localhost:8080/"
        },
        "collapsed": true,
        "id": "r2_WiudgCWx7",
        "outputId": "720ff44a-7fc8-4164-fa9e-d4fa901d0364"
      },
      "outputs": [
        {
          "output_type": "stream",
          "name": "stdout",
          "text": [
            "<class 'pandas.core.frame.DataFrame'>\n",
            "RangeIndex: 150 entries, 0 to 149\n",
            "Data columns (total 6 columns):\n",
            " #   Column         Non-Null Count  Dtype  \n",
            "---  ------         --------------  -----  \n",
            " 0   Id             150 non-null    int64  \n",
            " 1   SepalLengthCm  150 non-null    float64\n",
            " 2   SepalWidthCm   150 non-null    float64\n",
            " 3   PetalLengthCm  150 non-null    float64\n",
            " 4   PetalWidthCm   150 non-null    float64\n",
            " 5   Species        150 non-null    object \n",
            "dtypes: float64(4), int64(1), object(1)\n",
            "memory usage: 7.2+ KB\n"
          ]
        }
      ],
      "source": [
        "#import necessary libraries\n",
        "import pandas as pd\n",
        "import numpy as np\n",
        "\n",
        "#load the data for analysis\n",
        "df = pd.read_csv(\"Iris.csv\")\n",
        "df.info()"
      ]
    },
    {
      "cell_type": "code",
      "source": [
        "#preprocessing the data\n",
        "#check for missing values and fill them\n",
        "df.isnull().sum()\n",
        "df_clean = df.fillna(0)\n",
        "df_clean.isnull().sum()\n",
        "print(df_clean)\n"
      ],
      "metadata": {
        "colab": {
          "base_uri": "https://localhost:8080/"
        },
        "collapsed": true,
        "id": "RJDF4LCPE6fE",
        "outputId": "e34ea5e8-9ca7-4d2f-cee5-63d9d897f3a5"
      },
      "execution_count": 3,
      "outputs": [
        {
          "output_type": "stream",
          "name": "stdout",
          "text": [
            "      Id  SepalLengthCm  SepalWidthCm  PetalLengthCm  PetalWidthCm  \\\n",
            "0      1            5.1           3.5            1.4           0.2   \n",
            "1      2            4.9           3.0            1.4           0.2   \n",
            "2      3            4.7           3.2            1.3           0.2   \n",
            "3      4            4.6           3.1            1.5           0.2   \n",
            "4      5            5.0           3.6            1.4           0.2   \n",
            "..   ...            ...           ...            ...           ...   \n",
            "145  146            6.7           3.0            5.2           2.3   \n",
            "146  147            6.3           2.5            5.0           1.9   \n",
            "147  148            6.5           3.0            5.2           2.0   \n",
            "148  149            6.2           3.4            5.4           2.3   \n",
            "149  150            5.9           3.0            5.1           1.8   \n",
            "\n",
            "            Species  \n",
            "0       Iris-setosa  \n",
            "1       Iris-setosa  \n",
            "2       Iris-setosa  \n",
            "3       Iris-setosa  \n",
            "4       Iris-setosa  \n",
            "..              ...  \n",
            "145  Iris-virginica  \n",
            "146  Iris-virginica  \n",
            "147  Iris-virginica  \n",
            "148  Iris-virginica  \n",
            "149  Iris-virginica  \n",
            "\n",
            "[150 rows x 6 columns]\n"
          ]
        }
      ]
    },
    {
      "cell_type": "code",
      "source": [
        "#encode labels\n",
        "from sklearn.preprocessing import LabelEncoder\n",
        "le = LabelEncoder()\n",
        "df_clean['Species'] = le.fit_transform(df_clean['Species'])\n",
        "print(df_clean)\n"
      ],
      "metadata": {
        "colab": {
          "base_uri": "https://localhost:8080/"
        },
        "collapsed": true,
        "id": "63vyh6WEGD0u",
        "outputId": "4230c4e8-2ad8-4eed-eacd-bdf875b9e62d"
      },
      "execution_count": 4,
      "outputs": [
        {
          "output_type": "stream",
          "name": "stdout",
          "text": [
            "      Id  SepalLengthCm  SepalWidthCm  PetalLengthCm  PetalWidthCm  Species\n",
            "0      1            5.1           3.5            1.4           0.2        0\n",
            "1      2            4.9           3.0            1.4           0.2        0\n",
            "2      3            4.7           3.2            1.3           0.2        0\n",
            "3      4            4.6           3.1            1.5           0.2        0\n",
            "4      5            5.0           3.6            1.4           0.2        0\n",
            "..   ...            ...           ...            ...           ...      ...\n",
            "145  146            6.7           3.0            5.2           2.3        2\n",
            "146  147            6.3           2.5            5.0           1.9        2\n",
            "147  148            6.5           3.0            5.2           2.0        2\n",
            "148  149            6.2           3.4            5.4           2.3        2\n",
            "149  150            5.9           3.0            5.1           1.8        2\n",
            "\n",
            "[150 rows x 6 columns]\n"
          ]
        }
      ]
    },
    {
      "cell_type": "code",
      "source": [
        "#training a decision tree classifier to predict iris species\n",
        "from sklearn.model_selection import train_test_split\n",
        "from sklearn.tree import DecisionTreeClassifier\n",
        "from sklearn.metrics import accuracy_score\n",
        "\n",
        "X = df_clean.drop('Species', axis=1)\n",
        "y = df_clean['Species']\n",
        "\n",
        "X_train, X_test, y_train, y_test = train_test_split(X, y, test_size=0.2, random_state=42)\n",
        "clf = DecisionTreeClassifier()\n",
        "clf.fit(X_train, y_train)\n",
        "\n",
        "y_pred = clf.predict(X_test)\n",
        "accuracy = accuracy_score(y_test, y_pred)\n",
        "print(\"Accuracy:\", accuracy)\n",
        "\n"
      ],
      "metadata": {
        "colab": {
          "base_uri": "https://localhost:8080/"
        },
        "id": "Z5xbRNTKGida",
        "outputId": "890cd47b-3e7b-42e6-9681-eb15feb10e52"
      },
      "execution_count": 6,
      "outputs": [
        {
          "output_type": "stream",
          "name": "stdout",
          "text": [
            "Accuracy: 1.0\n"
          ]
        }
      ]
    },
    {
      "cell_type": "code",
      "source": [
        "# Evaluate using accuracy, precision, and recall\n",
        "#Evaluate using accuracy\n",
        "from sklearn.metrics import accuracy_score\n",
        "accuracy = accuracy_score(y_test, y_pred)\n",
        "print(\"Accuracy:\", accuracy)\n",
        "\n",
        "#Evaluate using precision\n",
        "from sklearn.metrics import precision_score\n",
        "precision = precision_score(y_test, y_pred, average='weighted')\n",
        "print(\"Precision:\", precision)\n",
        "\n",
        "#Evaluate using recall\n",
        "from sklearn.metrics import recall_score\n",
        "recall = recall_score(y_test, y_pred, average='weighted')\n",
        "print(\"Recall:\", recall)"
      ],
      "metadata": {
        "colab": {
          "base_uri": "https://localhost:8080/"
        },
        "id": "OpsMTLObHh2g",
        "outputId": "4c4726c3-bd97-4030-eb0f-646af7d6620a"
      },
      "execution_count": 7,
      "outputs": [
        {
          "output_type": "stream",
          "name": "stdout",
          "text": [
            "Accuracy: 1.0\n",
            "Precision: 1.0\n",
            "Recall: 1.0\n"
          ]
        }
      ]
    },
    {
      "cell_type": "markdown",
      "source": [
        "# Task 2: Deep Learning with TensorFlow/PyTorch"
      ],
      "metadata": {
        "id": "kr2pd1v8JNNE"
      }
    },
    {
      "cell_type": "code",
      "source": [
        "#import requied libraries\n",
        "import tensorflow as tf\n",
        "\n",
        "#load the mnist dataset\n",
        "(x_train, y_train), (x_test, y_test) = tf.keras.datasets.mnist.load_data()\n",
        "\n",
        "#preprocess the dataset\n",
        "x_train = x_train.reshape(-1, 28, 28, 1) / 255.0\n",
        "x_test = x_test.reshape(-1, 28, 28, 1) / 255.0\n",
        "\n",
        "#build the cnn model\n",
        "model = tf.keras.models.Sequential([\n",
        "    #First Convolutional Block + pooling\n",
        "    tf.keras.layers.Conv2D(32, (3, 3), activation='relu', input_shape=(28, 28, 1)),\n",
        "    tf.keras.layers.MaxPooling2D((2, 2)),\n",
        "\n",
        "    #Second Convolutional Block + pooling\n",
        "    tf.keras.layers.Conv2D(64, (3, 3), activation='relu'),\n",
        "    tf.keras.layers.MaxPooling2D((2, 2)),\n",
        "\n",
        "    #  Classification\n",
        "    tf.keras.layers.Flatten(),\n",
        "    tf.keras.layers.Dense(128, activation='relu'),\n",
        "    tf.keras.layers.Dropout(0.5),\n",
        "    tf.keras.layers.Dense(10, activation='softmax')\n",
        "])\n",
        "\n",
        "#compile the model\n",
        "model.compile(optimizer='adam',\n",
        "              loss='sparse_categorical_crossentropy',\n",
        "              metrics=['accuracy'])\n",
        "\n",
        "#train the model\n",
        "model.fit(x_train, y_train, epochs=5)\n",
        "\n",
        "#evaluate the model\n",
        "model.evaluate(x_test, y_test)"
      ],
      "metadata": {
        "id": "F6YBTR5hJn-8",
        "colab": {
          "base_uri": "https://localhost:8080/"
        },
        "outputId": "bc842c1f-4055-4944-bd9e-ecf7900f2125"
      },
      "execution_count": 8,
      "outputs": [
        {
          "output_type": "stream",
          "name": "stdout",
          "text": [
            "Downloading data from https://storage.googleapis.com/tensorflow/tf-keras-datasets/mnist.npz\n",
            "\u001b[1m11490434/11490434\u001b[0m \u001b[32m━━━━━━━━━━━━━━━━━━━━\u001b[0m\u001b[37m\u001b[0m \u001b[1m0s\u001b[0m 0us/step\n"
          ]
        },
        {
          "output_type": "stream",
          "name": "stderr",
          "text": [
            "/usr/local/lib/python3.12/dist-packages/keras/src/layers/convolutional/base_conv.py:113: UserWarning: Do not pass an `input_shape`/`input_dim` argument to a layer. When using Sequential models, prefer using an `Input(shape)` object as the first layer in the model instead.\n",
            "  super().__init__(activity_regularizer=activity_regularizer, **kwargs)\n"
          ]
        },
        {
          "output_type": "stream",
          "name": "stdout",
          "text": [
            "Epoch 1/5\n",
            "\u001b[1m1875/1875\u001b[0m \u001b[32m━━━━━━━━━━━━━━━━━━━━\u001b[0m\u001b[37m\u001b[0m \u001b[1m58s\u001b[0m 30ms/step - accuracy: 0.8696 - loss: 0.4116\n",
            "Epoch 2/5\n",
            "\u001b[1m1875/1875\u001b[0m \u001b[32m━━━━━━━━━━━━━━━━━━━━\u001b[0m\u001b[37m\u001b[0m \u001b[1m81s\u001b[0m 29ms/step - accuracy: 0.9791 - loss: 0.0727\n",
            "Epoch 3/5\n",
            "\u001b[1m1875/1875\u001b[0m \u001b[32m━━━━━━━━━━━━━━━━━━━━\u001b[0m\u001b[37m\u001b[0m \u001b[1m81s\u001b[0m 29ms/step - accuracy: 0.9841 - loss: 0.0530\n",
            "Epoch 4/5\n",
            "\u001b[1m1875/1875\u001b[0m \u001b[32m━━━━━━━━━━━━━━━━━━━━\u001b[0m\u001b[37m\u001b[0m \u001b[1m54s\u001b[0m 29ms/step - accuracy: 0.9868 - loss: 0.0420\n",
            "Epoch 5/5\n",
            "\u001b[1m1875/1875\u001b[0m \u001b[32m━━━━━━━━━━━━━━━━━━━━\u001b[0m\u001b[37m\u001b[0m \u001b[1m54s\u001b[0m 29ms/step - accuracy: 0.9889 - loss: 0.0357\n",
            "\u001b[1m313/313\u001b[0m \u001b[32m━━━━━━━━━━━━━━━━━━━━\u001b[0m\u001b[37m\u001b[0m \u001b[1m4s\u001b[0m 11ms/step - accuracy: 0.9893 - loss: 0.0270\n"
          ]
        },
        {
          "output_type": "execute_result",
          "data": {
            "text/plain": [
              "[0.021506933495402336, 0.991599977016449]"
            ]
          },
          "metadata": {},
          "execution_count": 8
        }
      ]
    },
    {
      "cell_type": "code",
      "metadata": {
        "colab": {
          "base_uri": "https://localhost:8080/",
          "height": 191
        },
        "id": "4ecd106a",
        "outputId": "655e2ee2-f648-4123-980b-2eb63049f3ef"
      },
      "source": [
        "#Visualize the model’s predictions on 5 sample images.\n",
        "#import required libraies\n",
        "import matplotlib.pyplot as plt\n",
        "import numpy as np\n",
        "\n",
        "# Get 5 sample images and their predictions\n",
        "sample_images = x_test[:5]\n",
        "\n",
        "predictions = model.predict(sample_images)\n",
        "\n",
        "# Plot the images and their predicted labels\n",
        "plt.figure(figsize=(10, 5))\n",
        "for i in range(5):\n",
        "    plt.subplot(1, 5, i+1)\n",
        "    plt.imshow(sample_images[i].reshape(28, 28), cmap='gray')\n",
        "    plt.title(f\"Predicted: {np.argmax(predictions[i])}\")\n",
        "    plt.axis('off')\n",
        "plt.tight_layout()\n",
        "plt.show()"
      ],
      "execution_count": 9,
      "outputs": [
        {
          "output_type": "stream",
          "name": "stdout",
          "text": [
            "\u001b[1m1/1\u001b[0m \u001b[32m━━━━━━━━━━━━━━━━━━━━\u001b[0m\u001b[37m\u001b[0m \u001b[1m0s\u001b[0m 140ms/step\n"
          ]
        },
        {
          "output_type": "display_data",
          "data": {
            "text/plain": [
              "<Figure size 1000x500 with 5 Axes>"
            ],
            "image/png": "[encoded data removed]"
          },
          "metadata": {}
        }
      ]
    },
    {
      "cell_type": "markdown",
      "source": [
        "# Task 3: NLP with spaCy"
      ],
      "metadata": {
        "id": "TUHg1lw36BMy"
      }
    },
    {
      "cell_type": "code",
      "source": [
        "#import required libraries\n",
        "import spacy\n",
        "import pandas as pd\n",
        "import zipfile,bz2\n",
        "import os\n",
        "\n",
        "#Unzip and decompress the file\n",
        "zip_path = \"test.ft.txt.bz2.zip\"\n",
        "extract_dir = '/content/extracted'\n",
        "\n",
        "os.makedirs(extract_dir, exist_ok=True)\n",
        "\n",
        "#unzip outer zipfile\n",
        "with zipfile.ZipFile(zip_path, 'r') as zip_ref:\n",
        "    zip_ref.extractall(extract_dir)\n",
        "\n",
        "# Decompress the .bz2 file\n",
        "bz2_path = os.path.join(extract_dir, 'test.ft.txt.bz2')\n",
        "\n",
        "lines = []\n",
        "with bz2.open(bz2_path, 'rt', encoding='utf-8', errors='ignore') as f:\n",
        "    for i, line in enumerate(f):\n",
        "        lines.append(line.strip())\n",
        "        if i >= 999:  # Load first 1000 lines to start\n",
        "            break\n",
        "\n",
        "print(\"✅ Loaded\", len(lines), \"reviews\")\n",
        "print(\"\\nSample line:\\n\", lines[0])"
      ],
      "metadata": {
        "colab": {
          "base_uri": "https://localhost:8080/"
        },
        "id": "56UCL85LJQDD",
        "outputId": "dab49505-7e2b-477b-a903-0c8fc0834b7f"
      },
      "execution_count": 13,
      "outputs": [
        {
          "output_type": "stream",
          "name": "stdout",
          "text": [
            "✅ Loaded 1000 reviews\n",
            "\n",
            "Sample line:\n",
            " __label__2 Great CD: My lovely Pat has one of the GREAT voices of her generation. I have listened to this CD for YEARS and I still LOVE IT. When I'm in a good mood it makes me feel better. A bad mood just evaporates like sugar in the rain. This CD just oozes LIFE. Vocals are jusat STUUNNING and lyrics just kill. One of life's hidden gems. This is a desert isle CD in my book. Why she never made it big is just beyond me. Everytime I play this, no matter black, white, young, old, male, female EVERYBODY says one thing \"Who was that singing ?\"\n"
          ]
        }
      ]
    },
    {
      "cell_type": "code",
      "source": [
        "#clean the data\n",
        "clean_texts = [line.split(' ', 1)[1] for line in lines if ' ' in line]\n",
        "print(\"Sample cleaned text:\\n\", clean_texts[0])\n"
      ],
      "metadata": {
        "colab": {
          "base_uri": "https://localhost:8080/"
        },
        "id": "b6k_ACAmKmIv",
        "outputId": "02dc3ba9-942f-4f50-b0b3-b5f91e4a3a73"
      },
      "execution_count": 14,
      "outputs": [
        {
          "output_type": "stream",
          "name": "stdout",
          "text": [
            "Sample cleaned text:\n",
            " Great Camera: I recently purchased this camera and I'm very satisfied with it. I find the quality of the pictures with this camera as good if not better than anything else without going to digital. It is very comfortable to hold and the controls are easy to use. I highly reccomend this product to anyone looking for a top quality camera at an affordable price. Nice going Sony!\n"
          ]
        }
      ]
    },
    {
      "cell_type": "code",
      "source": [
        "#Run spaCy NER to extract product and brand names\n",
        "from collections import Counter\n",
        "\n",
        "#load model\n",
        "nlp = spacy.load(\"en_core_web_sm\")\n",
        "\n",
        "entities = []\n",
        "\n",
        "# Process first 100 reviews for demo (you can increase this later)\n",
        "for doc in nlp.pipe(clean_texts[:100], disable=[\"parser\", \"tagger\"]):\n",
        "    for ent in doc.ents:\n",
        "        if ent.label_ in [\"ORG\", \"PRODUCT\", \"WORK_OF_ART\"]:\n",
        "            entities.append((ent.text, ent.label_))\n",
        "\n",
        "# Show results\n",
        "for i in range(20):\n",
        "    print(entities[i])"
      ],
      "metadata": {
        "collapsed": true,
        "colab": {
          "base_uri": "https://localhost:8080/"
        },
        "id": "p5ll8uTxMBVj",
        "outputId": "24e2e443-b5b8-4e73-d5c0-873ada3c7b3e"
      },
      "execution_count": 17,
      "outputs": [
        {
          "output_type": "stream",
          "name": "stdout",
          "text": [
            "('GREAT', 'ORG')\n",
            "('EVERYBODY', 'ORG')\n",
            "('Their Powerex MH-C204F', 'ORG')\n",
            "('VHS', 'ORG')\n",
            "('hte', 'ORG')\n",
            "('JVC', 'ORG')\n",
            "('Sony', 'ORG')\n",
            "('JVC', 'ORG')\n",
            "('El Duke', 'ORG')\n",
            "('TRULY', 'ORG')\n",
            "('Amazon', 'ORG')\n",
            "('USB', 'ORG')\n",
            "('AWESOME', 'ORG')\n",
            "('UN', 'ORG')\n",
            "('LAS HISTORIA DE LOS BOXEADORES', 'ORG')\n",
            "('MÁS BRILLANTES', 'ORG')\n",
            "('DE LOS', 'ORG')\n",
            "('DURANTE', 'ORG')\n",
            "('Victoria', 'ORG')\n",
            "('Sony', 'ORG')\n"
          ]
        }
      ]
    },
    {
      "cell_type": "code",
      "source": [
        "#Analyze sentiment (positive/negative) using a rule-based approach.\n",
        "#import required liblaries\n",
        "import nltk\n",
        "from nltk.sentiment.vader import SentimentIntensityAnalyzer\n",
        "\n",
        "# Download the VADER lexicon if you haven't already\n",
        "try:\n",
        "    nltk.data.find('sentiment/vader_lexicon.zip')\n",
        "except LookupError:\n",
        "    nltk.download('vader_lexicon')\n",
        "\n",
        "#Initialze the analyzer\n",
        "analyzer = SentimentIntensityAnalyzer()\n",
        "\n",
        "# Analyze sentiment for the cleaned reviews\n",
        "sentiments = []\n",
        "for text in clean_texts:\n",
        "    vs = analyzer.polarity_scores(text)\n",
        "    sentiment = \"positive\" if vs['compound'] > 0.05 else (\"negative\" if vs['compound'] < -0.05 else \"neutral\")\n",
        "    sentiments.append((text, sentiment, vs['compound']))\n",
        "\n",
        "# Print the first 10 results as a sample\n",
        "for text, sentiment, compound_score in sentiments[:10]:\n",
        "    print(f\"Review: {text[:100]}...\") # Print first 100 characters\n",
        "    print(f\"Sentiment: {sentiment} (Compound Score: {compound_score})\\n\")"
      ],
      "metadata": {
        "colab": {
          "base_uri": "https://localhost:8080/"
        },
        "collapsed": true,
        "id": "XuZvFQghN58J",
        "outputId": "f0f48b83-f2b9-46e6-f5c8-122d3e4659a0"
      },
      "execution_count": 20,
      "outputs": [
        {
          "output_type": "stream",
          "name": "stderr",
          "text": [
            "[nltk_data] Downloading package vader_lexicon to /root/nltk_data...\n"
          ]
        },
        {
          "output_type": "stream",
          "name": "stdout",
          "text": [
            "Review: Great CD: My lovely Pat has one of the GREAT voices of her generation. I have listened to this CD fo...\n",
            "Sentiment: positive (Compound Score: 0.9569)\n",
            "\n",
            "Review: One of the best game music soundtracks - for a game I didn't really play: Despite the fact that I ha...\n",
            "Sentiment: positive (Compound Score: 0.877)\n",
            "\n",
            "Review: Batteries died within a year ...: I bought this charger in Jul 2003 and it worked OK for a while. Th...\n",
            "Sentiment: positive (Compound Score: 0.7297)\n",
            "\n",
            "Review: works fine, but Maha Energy is better: Check out Maha Energy's website. Their Powerex MH-C204F charg...\n",
            "Sentiment: positive (Compound Score: 0.7845)\n",
            "\n",
            "Review: Great for the non-audiophile: Reviewed quite a bit of the combo players and was hesitant due to unfa...\n",
            "Sentiment: positive (Compound Score: 0.8388)\n",
            "\n",
            "Review: DVD Player crapped out after one year: I also began having the incorrect disc problems that I've rea...\n",
            "Sentiment: negative (Compound Score: -0.3506)\n",
            "\n",
            "Review: Incorrect Disc: I love the style of this, but after a couple years, the DVD is giving me problems. I...\n",
            "Sentiment: negative (Compound Score: -0.0638)\n",
            "\n",
            "Review: DVD menu select problems: I cannot scroll through a DVD menu that is set up vertically. The triangle...\n",
            "Sentiment: positive (Compound Score: 0.2329)\n",
            "\n",
            "Review: Unique Weird Orientalia from the 1930's: Exotic tales of the Orient from the 1930's. \"Dr Shen Fu\", a...\n",
            "Sentiment: positive (Compound Score: 0.128)\n",
            "\n",
            "Review: Not an \"ultimate guide\": Firstly,I enjoyed the format and tone of the book (how the author addressed...\n",
            "Sentiment: positive (Compound Score: 0.9633)\n",
            "\n"
          ]
        }
      ]
    },
    {
      "cell_type": "code",
      "source": [
        "#vizualize sentiment distribution\n",
        "import matplotlib.pyplot as plt\n",
        "\n",
        "plt.figure(figsize=(8, 6))\n",
        "sentiment_counts = Counter(sentiment for _, sentiment, _ in sentiments)\n",
        "plt.bar(sentiment_counts.keys(), sentiment_counts.values())\n",
        "plt.xlabel('Sentiment')\n",
        "plt.ylabel('Count')\n",
        "plt.title('Sentiment Distribution')\n",
        "plt.grid(True)\n",
        "plt.show()\n",
        "\n",
        "\n"
      ],
      "metadata": {
        "colab": {
          "base_uri": "https://localhost:8080/",
          "height": 561
        },
        "id": "r7FAyvojSXx-",
        "outputId": "6cf08fee-2682-4970-a1d3-b11f6c2d111f"
      },
      "execution_count": 24,
      "outputs": [
        {
          "output_type": "display_data",
          "data": {
            "text/plain": [
              "<Figure size 800x600 with 1 Axes>"
            ],
            "image/png": "[encoded data removed]"
          },
          "metadata": {}
        }
      ]
    },
    {
      "cell_type": "markdown",
      "source": [
        "Deploying trained model on streamlit"
      ],
      "metadata": {
        "id": "17zZXdj5g6e_"
      }
    },
    {
      "cell_type": "code",
      "metadata": {
        "colab": {
          "base_uri": "https://localhost:8080/"
        },
        "collapsed": true,
        "id": "851b3da8",
        "outputId": "fe219307-721a-4172-9cc0-962d80c2c871"
      },
      "source": [
        "import streamlit as st\n",
        "import joblib\n",
        "import numpy as np\n",
        "\n",
        "# Save the trained model\n",
        "joblib.dump(clf, 'decision_tree_model.pkl')\n",
        "\n",
        "# Load the trained model\n",
        "model = joblib.load('decision_tree_model.pkl')\n",
        "\n",
        "st.title('Iris Species Prediction')\n",
        "\n",
        "st.write('Enter the measurements of the Iris flower to predict its species.')\n",
        "\n",
        "# Get input from the user\n",
        "sepal_length = st.slider('Sepal Length (cm)', 0.0, 10.0, 5.0)\n",
        "sepal_width = st.slider('Sepal Width (cm)', 0.0, 5.0, 3.0)\n",
        "petal_length = st.slider('Petal Length (cm)', 0.0, 10.0, 4.0)\n",
        "petal_width = st.slider('Petal Width (cm)', 0.0, 5.0, 1.0)\n",
        "\n",
        "# Create a numpy array from the input\n",
        "# The model was trained with an 'Id' column, so we need to add a placeholder for it.\n",
        "# Since 'Id' is not used for prediction, we can use a dummy value like 0.\n",
        "features = np.array([[0, sepal_length, sepal_width, petal_length, petal_width]])\n",
        "\n",
        "\n",
        "if st.button('Predict'):\n",
        "    prediction = model.predict(features)\n",
        "    species = np.array(['Iris-setosa', 'Iris-versicolor', 'Iris-virginica'])[prediction][0]\n",
        "    st.success(f'The predicted species is: {species}')"
      ],
      "execution_count": 32,
      "outputs": [
        {
          "output_type": "stream",
          "name": "stderr",
          "text": [
            "2025-10-29 15:12:18.537 Thread 'MainThread': missing ScriptRunContext! This warning can be ignored when running in bare mode.\n",
            "2025-10-29 15:12:18.538 Thread 'MainThread': missing ScriptRunContext! This warning can be ignored when running in bare mode.\n",
            "2025-10-29 15:12:18.540 Thread 'MainThread': missing ScriptRunContext! This warning can be ignored when running in bare mode.\n",
            "2025-10-29 15:12:18.541 Thread 'MainThread': missing ScriptRunContext! This warning can be ignored when running in bare mode.\n",
            "2025-10-29 15:12:18.543 Thread 'MainThread': missing ScriptRunContext! This warning can be ignored when running in bare mode.\n",
            "2025-10-29 15:12:18.544 Thread 'MainThread': missing ScriptRunContext! This warning can be ignored when running in bare mode.\n",
            "2025-10-29 15:12:18.546 Thread 'MainThread': missing ScriptRunContext! This warning can be ignored when running in bare mode.\n",
            "2025-10-29 15:12:18.547 Thread 'MainThread': missing ScriptRunContext! This warning can be ignored when running in bare mode.\n",
            "2025-10-29 15:12:18.548 Thread 'MainThread': missing ScriptRunContext! This warning can be ignored when running in bare mode.\n",
            "2025-10-29 15:12:18.549 Thread 'MainThread': missing ScriptRunContext! This warning can be ignored when running in bare mode.\n",
            "2025-10-29 15:12:18.550 Thread 'MainThread': missing ScriptRunContext! This warning can be ignored when running in bare mode.\n",
            "2025-10-29 15:12:18.552 Thread 'MainThread': missing ScriptRunContext! This warning can be ignored when running in bare mode.\n",
            "2025-10-29 15:12:18.554 Thread 'MainThread': missing ScriptRunContext! This warning can be ignored when running in bare mode.\n",
            "2025-10-29 15:12:18.555 Thread 'MainThread': missing ScriptRunContext! This warning can be ignored when running in bare mode.\n",
            "2025-10-29 15:12:18.556 Thread 'MainThread': missing ScriptRunContext! This warning can be ignored when running in bare mode.\n",
            "2025-10-29 15:12:18.557 Thread 'MainThread': missing ScriptRunContext! This warning can be ignored when running in bare mode.\n",
            "2025-10-29 15:12:18.560 Thread 'MainThread': missing ScriptRunContext! This warning can be ignored when running in bare mode.\n",
            "2025-10-29 15:12:18.561 Thread 'MainThread': missing ScriptRunContext! This warning can be ignored when running in bare mode.\n",
            "2025-10-29 15:12:18.562 Thread 'MainThread': missing ScriptRunContext! This warning can be ignored when running in bare mode.\n",
            "2025-10-29 15:12:18.564 Thread 'MainThread': missing ScriptRunContext! This warning can be ignored when running in bare mode.\n",
            "2025-10-29 15:12:18.564 Thread 'MainThread': missing ScriptRunContext! This warning can be ignored when running in bare mode.\n",
            "2025-10-29 15:12:18.565 Thread 'MainThread': missing ScriptRunContext! This warning can be ignored when running in bare mode.\n",
            "2025-10-29 15:12:18.566 Thread 'MainThread': missing ScriptRunContext! This warning can be ignored when running in bare mode.\n",
            "2025-10-29 15:12:18.567 Thread 'MainThread': missing ScriptRunContext! This warning can be ignored when running in bare mode.\n",
            "2025-10-29 15:12:18.569 Thread 'MainThread': missing ScriptRunContext! This warning can be ignored when running in bare mode.\n",
            "2025-10-29 15:12:18.570 Thread 'MainThread': missing ScriptRunContext! This warning can be ignored when running in bare mode.\n",
            "2025-10-29 15:12:18.571 Thread 'MainThread': missing ScriptRunContext! This warning can be ignored when running in bare mode.\n",
            "2025-10-29 15:12:18.572 Thread 'MainThread': missing ScriptRunContext! This warning can be ignored when running in bare mode.\n",
            "2025-10-29 15:12:18.573 Thread 'MainThread': missing ScriptRunContext! This warning can be ignored when running in bare mode.\n",
            "2025-10-29 15:12:18.574 Thread 'MainThread': missing ScriptRunContext! This warning can be ignored when running in bare mode.\n",
            "2025-10-29 15:12:18.575 Thread 'MainThread': missing ScriptRunContext! This warning can be ignored when running in bare mode.\n",
            "2025-10-29 15:12:18.576 Thread 'MainThread': missing ScriptRunContext! This warning can be ignored when running in bare mode.\n",
            "2025-10-29 15:12:18.577 Thread 'MainThread': missing ScriptRunContext! This warning can be ignored when running in bare mode.\n",
            "2025-10-29 15:12:18.578 Thread 'MainThread': missing ScriptRunContext! This warning can be ignored when running in bare mode.\n",
            "2025-10-29 15:12:18.579 Thread 'MainThread': missing ScriptRunContext! This warning can be ignored when running in bare mode.\n",
            "2025-10-29 15:12:18.580 Thread 'MainThread': missing ScriptRunContext! This warning can be ignored when running in bare mode.\n"
          ]
        }
      ]
    },
    {
      "cell_type": "code",
      "metadata": {
        "colab": {
          "base_uri": "https://localhost:8080/"
        },
        "id": "2c1baa56",
        "outputId": "c6d77bf4-c9de-4cd3-9194-4b950c2ed8ad"
      },
      "source": [
        "# Save the streamlit app code to a python file\n",
        "%%writefile app.py\n",
        "import streamlit as st\n",
        "import joblib\n",
        "import numpy as np\n",
        "\n",
        "# Load the trained model\n",
        "model = joblib.load('decision_tree_model.pkl')\n",
        "\n",
        "st.title('Iris Species Prediction')\n",
        "\n",
        "st.write('Enter the measurements of the Iris flower to predict its species.')\n",
        "\n",
        "# Get input from the user\n",
        "sepal_length = st.slider('Sepal Length (cm)', 0.0, 10.0, 5.0)\n",
        "sepal_width = st.slider('Sepal Width (cm)', 0.0, 5.0, 3.0)\n",
        "petal_length = st.slider('Petal Length (cm)', 0.0, 10.0, 4.0)\n",
        "petal_width = st.slider('Petal Width (cm)', 0.0, 5.0, 1.0)\n",
        "\n",
        "# Create a numpy array from the input\n",
        "# The model was trained with an 'Id' column, so we need to add a placeholder for it.\n",
        "# Since 'Id' is not used for prediction, we can use a dummy value like 0.\n",
        "features = np.array([[0, sepal_length, sepal_width, petal_length, petal_width]])\n",
        "\n",
        "\n",
        "if st.button('Predict'):\n",
        "    prediction = model.predict(features)\n",
        "    species = np.array(['Iris-setosa', 'Iris-versicolor', 'Iris-virginica'])[prediction][0]\n",
        "    st.success(f'The predicted species is: {species}')"
      ],
      "execution_count": 33,
      "outputs": [
        {
          "output_type": "stream",
          "name": "stdout",
          "text": [
            "Overwriting app.py\n"
          ]
        }
      ]
    },
    {
      "cell_type": "code",
      "metadata": {
        "id": "f969f337"
      },
      "source": [
        "!streamlit run app.py & npx localtunnel --port 8501"
      ],
      "execution_count": null,
      "outputs": []
    }
  ]
}